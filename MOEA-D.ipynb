{
 "cells": [
  {
   "cell_type": "code",
   "execution_count": 1,
   "metadata": {},
   "outputs": [],
   "source": [
    "import pymoo"
   ]
  },
  {
   "cell_type": "markdown",
   "metadata": {},
   "source": [
    "# Define the Traveling Salesman problem"
   ]
  },
  {
   "cell_type": "code",
   "execution_count": 2,
   "metadata": {},
   "outputs": [],
   "source": [
    "from motsp import MOTSP\n",
    "n_obj = 2\n",
    "problem = MOTSP(100, n_obj) # 100 cities, 2 objectives"
   ]
  },
  {
   "cell_type": "markdown",
   "metadata": {},
   "source": [
    "# Initialize algorithms"
   ]
  },
  {
   "cell_type": "code",
   "execution_count": 3,
   "metadata": {},
   "outputs": [],
   "source": [
    "from pymoo.factory import get_sampling, get_crossover, get_mutation"
   ]
  },
  {
   "cell_type": "markdown",
   "metadata": {},
   "source": [
    "## Initialize NSGA2 algorithm"
   ]
  },
  {
   "cell_type": "code",
   "execution_count": 4,
   "metadata": {},
   "outputs": [],
   "source": [
    "from pymoo.algorithms.nsga2 import NSGA2\n",
    "nsga2 = NSGA2(\n",
    "    pop_size=100,\n",
    "    n_offsprings=100,\n",
    "    sampling=get_sampling(\"perm_random\"),\n",
    "    crossover=get_crossover(\"perm_erx\", prob=0.9),\n",
    "    mutation=get_mutation(\"perm_inv\"),\n",
    ")"
   ]
  },
  {
   "cell_type": "markdown",
   "metadata": {},
   "source": [
    "## Initialize MOEA-D algorithm"
   ]
  },
  {
   "cell_type": "code",
   "execution_count": 5,
   "metadata": {},
   "outputs": [],
   "source": [
    "from pymoo.algorithms.moead import MOEAD\n",
    "from pymoo.factory import get_visualization, get_reference_directions\n",
    "from pymoo.factory import get_sampling, get_crossover, get_mutation\n",
    "\n",
    "# First, divide our problem in subproblems:\n",
    "ref_dirs = get_reference_directions(\"energy\", n_obj, 100) # contains weights to define subproblems\n",
    "\n",
    "moead = MOEAD(\n",
    "    ref_dirs = ref_dirs,\n",
    "    n_neighbors=20, # new: n_neighbors is used in the algorithm for reproduction essentially\n",
    "    decomposition='tchebi', # new: it is the algorithm used to decompose the problem into subproblems\n",
    "                            #.     the decomposition is based on weights in ref_dirs\n",
    "    prob_neighbor_mating=.9, # new: the probability to take a solution of a neighbor subproblem in reproduction step\n",
    "    sampling=get_sampling(\"perm_random\"),\n",
    "    crossover=get_crossover(\"perm_erx\", prob=.9),\n",
    "    mutation=get_mutation(\"perm_inv\"),\n",
    ")"
   ]
  },
  {
   "cell_type": "markdown",
   "metadata": {},
   "source": [
    "# Run both algorithms"
   ]
  },
  {
   "cell_type": "code",
   "execution_count": 6,
   "metadata": {},
   "outputs": [],
   "source": [
    "from pymoo.optimize import minimize"
   ]
  },
  {
   "cell_type": "code",
   "execution_count": 7,
   "metadata": {},
   "outputs": [],
   "source": [
    "res_nsga2 = minimize(problem, nsga2, termination=('n_eval', 10000))"
   ]
  },
  {
   "cell_type": "code",
   "execution_count": 8,
   "metadata": {},
   "outputs": [],
   "source": [
    "res_moead = minimize(problem, moead, termination=('n_eval', 10000))"
   ]
  },
  {
   "cell_type": "markdown",
   "metadata": {},
   "source": [
    "# Plot results"
   ]
  },
  {
   "cell_type": "code",
   "execution_count": 9,
   "metadata": {},
   "outputs": [
    {
     "data": {
      "text/plain": [
       "<pymoo.visualization.scatter.Scatter at 0x7f8bf0a8e790>"
      ]
     },
     "execution_count": 9,
     "metadata": {},
     "output_type": "execute_result"
    },
    {
     "data": {
      "image/png": "[encoded data removed]",
      "text/plain": [
       "<Figure size 576x432 with 1 Axes>"
      ]
     },
     "metadata": {
      "needs_background": "light"
     },
     "output_type": "display_data"
    }
   ],
   "source": [
    "plot = get_visualization('scatter')\n",
    "plot.add(res_nsga2.F, label='NSGA2')\n",
    "plot.add(res_moead.F, label='MOEA-D')\n",
    "plot.legend=True\n",
    "plot.show()"
   ]
  },
  {
   "cell_type": "markdown",
   "metadata": {},
   "source": [
    "# Questions"
   ]
  },
  {
   "cell_type": "markdown",
   "metadata": {},
   "source": [
    "<div class=\"alert alert-warning\">\n",
    "    <b>Question 1:</b>\n",
    "\n",
    "What does ref_dirs refers to?\n",
    "</div>"
   ]
  },
  {
   "cell_type": "code",
   "execution_count": 10,
   "metadata": {},
   "outputs": [],
   "source": [
    "ref_dirs = get_reference_directions(\"energy\", n_obj, 100) # contains weights to define subproblems"
   ]
  },
  {
   "cell_type": "markdown",
   "metadata": {},
   "source": [
    "<div class=\"alert alert-danger\"><a href=\"#hint1\" data-toggle=\"collapse\">Hint (click to expand)</a><br>\n",
    "    <div id=\"hint1\" class=\"collapse\">\n",
    "        Get its shape, and then try to plot it with matplotlib.pyplot.scatter.\n",
    "    </div>\n",
    "</div>"
   ]
  },
  {
   "cell_type": "code",
   "execution_count": 11,
   "metadata": {},
   "outputs": [],
   "source": [
    "# %load solutions/question1.py\n"
   ]
  },
  {
   "cell_type": "markdown",
   "metadata": {},
   "source": [
    "<div class=\"alert alert-warning\">\n",
    "    <b>Question 2:</b>\n",
    "    \n",
    "Do we need to specify pop_size when initializing MOEA-D algorithm? Why?\n",
    "</div>"
   ]
  },
  {
   "cell_type": "code",
   "execution_count": 12,
   "metadata": {},
   "outputs": [],
   "source": [
    "# %load solutions/question2.py\n"
   ]
  },
  {
   "cell_type": "markdown",
   "metadata": {},
   "source": [
    "<div class=\"alert alert-warning\">\n",
    "    <b>Question 3:</b>\n",
    "    \n",
    "Compare MOEA-D with NSGA-II, given the same termination criterion n_eval = cst.\n",
    "    \n",
    "You can also try with <a href=\"http://pymoo.org/interface/termination.html\">other termination criterions</a>.\n",
    "</div>"
   ]
  },
  {
   "cell_type": "code",
   "execution_count": 13,
   "metadata": {},
   "outputs": [],
   "source": [
    "# %load solutions/question3.py\n"
   ]
  },
  {
   "cell_type": "markdown",
   "metadata": {},
   "source": [
    "<div class=\"alert alert-warning\">\n",
    "    <b>Question 4:</b>\n",
    "    \n",
    "How the results of MOEA-D depend on prob_neihbor_mating parameter? Why?\n",
    "</div>"
   ]
  },
  {
   "cell_type": "code",
   "execution_count": 14,
   "metadata": {},
   "outputs": [],
   "source": [
    "# %load solutions/question4.py\n"
   ]
  }
 ],
 "metadata": {
  "kernelspec": {
   "display_name": "myenv_python_3.8",
   "language": "python",
   "name": "myenv_python_3.8"
  },
  "language_info": {
   "codemirror_mode": {
    "name": "ipython",
    "version": 3
   },
   "file_extension": ".py",
   "mimetype": "text/x-python",
   "name": "python",
   "nbconvert_exporter": "python",
   "pygments_lexer": "ipython3",
   "version": "3.8.0"
  }
 },
 "nbformat": 4,
 "nbformat_minor": 4
}
